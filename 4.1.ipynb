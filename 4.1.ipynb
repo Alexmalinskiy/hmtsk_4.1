{
 "cells": [
  {
   "cell_type": "markdown",
   "metadata": {},
   "source": [
    "# Статистика имен новорожденных"
   ]
  },
  {
   "cell_type": "code",
   "execution_count": 2,
   "metadata": {
    "collapsed": true
   },
   "outputs": [],
   "source": [
    "import pandas as pd"
   ]
  },
  {
   "cell_type": "code",
   "execution_count": 3,
   "metadata": {
    "collapsed": true
   },
   "outputs": [],
   "source": [
    "path = 'D:/names/'"
   ]
  },
  {
   "cell_type": "code",
   "execution_count": 4,
   "metadata": {
    "collapsed": true
   },
   "outputs": [],
   "source": [
    "def get_list_with_files_data(years_list):\n",
    "    headers = ['Name', 'Gender', 'Count']\n",
    "    return [pd.read_csv(\n",
    "            '{}yob{}.txt'.format(path, str(year)), names = headers) for year in years_list ]"
   ]
  },
  {
   "cell_type": "code",
   "execution_count": 41,
   "metadata": {},
   "outputs": [],
   "source": [
    "def top_3_names(years_list):\n",
    "    return [pd.concat(get_list_with_files_data(years_list))\\\n",
    "             .groupby('Name').sum()\\\n",
    "             .sort_values(by='Count', ascending=False)\\\n",
    "             .head(3)]                        "
   ]
  },
  {
   "cell_type": "markdown",
   "metadata": {},
   "source": [
    "# ТОП 3"
   ]
  },
  {
   "cell_type": "code",
   "execution_count": 42,
   "metadata": {},
   "outputs": [
    {
     "data": {
      "text/plain": [
       "[         Count\n",
       " Name          \n",
       " John      9701\n",
       " William   9562\n",
       " Mary      7092]"
      ]
     },
     "execution_count": 42,
     "metadata": {},
     "output_type": "execute_result"
    }
   ],
   "source": [
    "top_3_names([1880])"
   ]
  },
  {
   "cell_type": "code",
   "execution_count": 16,
   "metadata": {
    "collapsed": true
   },
   "outputs": [],
   "source": [
    "def get_dict_by_gender(dictionary):\n",
    "     return {'M': [dictionary[key] for key in dictionary if key[1] == 'M'],\n",
    "             'F': [dictionary[key] for key in dictionary if key[1] == 'F']}"
   ]
  },
  {
   "cell_type": "code",
   "execution_count": 17,
   "metadata": {
    "collapsed": true
   },
   "outputs": [],
   "source": [
    "def count_dynamics(years_list):\n",
    "    cols = ['Name', 'Gender', 'Count']\n",
    "    dict_gender_by_years = {}\n",
    "    for year in years_list:\n",
    "        dict_gender_by_years[year] = pd.read_csv('{}yob{}.txt'.format(path, str(year)), names = cols)\\\n",
    "                                    .groupby('Gender').sum()\n",
    "    \n",
    "    return get_dict_by_gender(pd.concat(dict_gender_by_years, names = ['Year', 'Gender'])\\\n",
    "                                    .to_dict('dict')['Count'])"
   ]
  },
  {
   "cell_type": "markdown",
   "metadata": {},
   "source": [
    "# РЕЗУЛЬТАТ"
   ]
  },
  {
   "cell_type": "code",
   "execution_count": 20,
   "metadata": {},
   "outputs": [
    {
     "data": {
      "text/plain": [
       "{'F': [1814922, 1713259, 299810], 'M': [1962744, 1790871, 150486]}"
      ]
     },
     "execution_count": 20,
     "metadata": {},
     "output_type": "execute_result"
    }
   ],
   "source": [
    "count_dynamics([1900, 1950, 2000])"
   ]
  }
 ],
 "metadata": {
  "kernelspec": {
   "display_name": "Python 3",
   "language": "python",
   "name": "python3"
  },
  "language_info": {
   "codemirror_mode": {
    "name": "ipython",
    "version": 3
   },
   "file_extension": ".py",
   "mimetype": "text/x-python",
   "name": "python",
   "nbconvert_exporter": "python",
   "pygments_lexer": "ipython3",
   "version": "3.5.3"
  }
 },
 "nbformat": 4,
 "nbformat_minor": 2
}
